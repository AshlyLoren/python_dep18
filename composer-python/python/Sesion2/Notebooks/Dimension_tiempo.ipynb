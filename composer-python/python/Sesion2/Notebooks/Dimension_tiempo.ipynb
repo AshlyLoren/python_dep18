{
 "cells": [
  {
   "cell_type": "code",
   "execution_count": null,
   "metadata": {},
   "outputs": [],
   "source": [
    "import pandas as pd\n",
    "import psycopg2\n",
    "from datetime import datetime, timedelta\n",
    "\n",
    "# Crear un DataFrame de fechas desde una fecha inicial hasta una fecha final\n",
    "fecha_inicial = datetime(2020, 1, 1)\n",
    "fecha_final = datetime(2025, 12, 31)\n",
    "delta = timedelta(days=1)\n",
    "fechas = []\n",
    "while fecha_inicial <= fecha_final:\n",
    "    fechas.append(fecha_inicial)\n",
    "    fecha_inicial += delta\n",
    "\n",
    "# Convertir la lista de fechas en un DataFrame\n",
    "df_fechas = pd.DataFrame(fechas, columns=['fecha'])\n",
    "\n",
    "# Extraer información de las fechas\n",
    "df_fechas['año'] = df_fechas['fecha'].dt.year\n",
    "df_fechas['trimestre'] = df_fechas['fecha'].dt.quarter\n",
    "df_fechas['mes'] = df_fechas['fecha'].dt.month\n",
    "df_fechas['semana'] = df_fechas['fecha'].dt.isocalendar().week\n",
    "df_fechas['día'] = df_fechas['fecha'].dt.day\n",
    "df_fechas['día_semana'] = df_fechas['fecha'].dt.isocalendar().day\n",
    "df_fechas['día_nombre'] = df_fechas['fecha'].dt.day_name()\n",
    "df_fechas['mes_nombre'] = df_fechas['fecha'].dt.month_name()\n",
    "\n",
    "print(\"Dimensión de tiempo creada exitosamente.\")\n"
   ]
  }
 ],
 "metadata": {
  "language_info": {
   "name": "python"
  },
  "orig_nbformat": 4
 },
 "nbformat": 4,
 "nbformat_minor": 2
}
